{
 "cells": [
  {
   "cell_type": "code",
   "execution_count": 1,
   "metadata": {},
   "outputs": [],
   "source": [
    "from sympy import *\n",
    "init_printing(use_unicode=True)\n",
    "%matplotlib inline"
   ]
  },
  {
   "cell_type": "code",
   "execution_count": 2,
   "metadata": {},
   "outputs": [],
   "source": [
    "x = symbols('x')"
   ]
  },
  {
   "cell_type": "markdown",
   "metadata": {},
   "source": [
    "**Exercício 1**"
   ]
  },
  {
   "cell_type": "code",
   "execution_count": 3,
   "metadata": {},
   "outputs": [
    {
     "data": {
      "image/png": "[encoded data removed]",
      "text/latex": [
       "$$x^{28}$$"
      ],
      "text/plain": [
       " 28\n",
       "x  "
      ]
     },
     "execution_count": 3,
     "metadata": {},
     "output_type": "execute_result"
    }
   ],
   "source": [
    "def f(x):\n",
    "    return x ** 28\n",
    "f(x)"
   ]
  },
  {
   "cell_type": "code",
   "execution_count": 4,
   "metadata": {},
   "outputs": [
    {
     "data": {
      "image/png": "[encoded data removed]",
      "text/latex": [
       "$$28 x^{27}$$"
      ],
      "text/plain": [
       "    27\n",
       "28⋅x  "
      ]
     },
     "execution_count": 4,
     "metadata": {},
     "output_type": "execute_result"
    }
   ],
   "source": [
    "diff(f(x))"
   ]
  },
  {
   "cell_type": "markdown",
   "metadata": {},
   "source": [
    "**Exercício 2**"
   ]
  },
  {
   "cell_type": "code",
   "execution_count": 5,
   "metadata": {},
   "outputs": [
    {
     "data": {
      "image/png": "[encoded data removed]",
      "text/latex": [
       "$$\\sqrt[5]{x^{2}}$$"
      ],
      "text/plain": [
       "   ____\n",
       "5 ╱  2 \n",
       "╲╱  x  "
      ]
     },
     "execution_count": 5,
     "metadata": {},
     "output_type": "execute_result"
    }
   ],
   "source": [
    "def f(x):\n",
    "    return root(x ** 2, 5)\n",
    "f(x)"
   ]
  },
  {
   "cell_type": "code",
   "execution_count": 6,
   "metadata": {},
   "outputs": [
    {
     "data": {
      "image/png": "[encoded data removed]",
      "text/latex": [
       "$$\\frac{2 \\sqrt[5]{x^{2}}}{5 x}$$"
      ],
      "text/plain": [
       "     ____\n",
       "  5 ╱  2 \n",
       "2⋅╲╱  x  \n",
       "─────────\n",
       "   5⋅x   "
      ]
     },
     "execution_count": 6,
     "metadata": {},
     "output_type": "execute_result"
    }
   ],
   "source": [
    "diff(f(x))"
   ]
  },
  {
   "cell_type": "markdown",
   "metadata": {},
   "source": [
    "**Exercício 3**"
   ]
  },
  {
   "cell_type": "code",
   "execution_count": 7,
   "metadata": {},
   "outputs": [
    {
     "data": {
      "image/png": "[encoded data removed]",
      "text/latex": [
       "$$3 x^{4} - 0.125 x^{2} + 10 x - 1$$"
      ],
      "text/plain": [
       "   4          2           \n",
       "3⋅x  - 0.125⋅x  + 10⋅x - 1"
      ]
     },
     "execution_count": 7,
     "metadata": {},
     "output_type": "execute_result"
    }
   ],
   "source": [
    "def f(x):\n",
    "    return (3 * (x ** 4)) - (1 / 8 * x ** 2) + (10 * x) - 1\n",
    "f(x)"
   ]
  },
  {
   "cell_type": "code",
   "execution_count": 8,
   "metadata": {},
   "outputs": [
    {
     "data": {
      "image/png": "[encoded data removed]",
      "text/latex": [
       "$$12 x^{3} - 0.25 x + 10$$"
      ],
      "text/plain": [
       "    3              \n",
       "12⋅x  - 0.25⋅x + 10"
      ]
     },
     "execution_count": 8,
     "metadata": {},
     "output_type": "execute_result"
    }
   ],
   "source": [
    "diff(f(x))"
   ]
  },
  {
   "cell_type": "markdown",
   "metadata": {},
   "source": [
    "**Exercício 4**"
   ]
  },
  {
   "cell_type": "code",
   "execution_count": 9,
   "metadata": {},
   "outputs": [
    {
     "data": {
      "image/png": "[encoded data removed]",
      "text/latex": [
       "$$- 2 x^{5} + \\sqrt[3]{x^{2}} + \\log{\\left (x \\right )} - 8 - \\frac{4}{x^{6}}$$"
      ],
      "text/plain": [
       "            ____                  \n",
       "     5   3 ╱  2                 4 \n",
       "- 2⋅x  + ╲╱  x   + log(x) - 8 - ──\n",
       "                                 6\n",
       "                                x "
      ]
     },
     "execution_count": 9,
     "metadata": {},
     "output_type": "execute_result"
    }
   ],
   "source": [
    "def f(x):\n",
    "    return - (2 * x ** 5) + cbrt(x ** 2) - (4 / x ** 6) + ln(x) - 8\n",
    "f(x)"
   ]
  },
  {
   "cell_type": "code",
   "execution_count": 10,
   "metadata": {},
   "outputs": [
    {
     "data": {
      "image/png": "[encoded data removed]",
      "text/latex": [
       "$$- 10 x^{4} + \\frac{2 \\sqrt[3]{x^{2}}}{3 x} + \\frac{1}{x} + \\frac{24}{x^{7}}$$"
      ],
      "text/plain": [
       "               ____         \n",
       "            3 ╱  2          \n",
       "      4   2⋅╲╱  x     1   24\n",
       "- 10⋅x  + ───────── + ─ + ──\n",
       "             3⋅x      x    7\n",
       "                          x "
      ]
     },
     "execution_count": 10,
     "metadata": {},
     "output_type": "execute_result"
    }
   ],
   "source": [
    "diff(f(x))"
   ]
  },
  {
   "cell_type": "markdown",
   "metadata": {},
   "source": [
    "**Exercício 5**"
   ]
  },
  {
   "cell_type": "code",
   "execution_count": 11,
   "metadata": {},
   "outputs": [
    {
     "data": {
      "image/png": "[encoded data removed]",
      "text/latex": [
       "$$10 + \\frac{1}{x} - \\frac{3}{x^{2}}$$"
      ],
      "text/plain": [
       "     1   3 \n",
       "10 + ─ - ──\n",
       "     x    2\n",
       "         x "
      ]
     },
     "execution_count": 11,
     "metadata": {},
     "output_type": "execute_result"
    }
   ],
   "source": [
    "def f(x):\n",
    "    return (1 / x) - (3 / x ** 2) + 10\n",
    "f(x)"
   ]
  },
  {
   "cell_type": "code",
   "execution_count": 12,
   "metadata": {},
   "outputs": [
    {
     "data": {
      "image/png": "[encoded data removed]",
      "text/latex": [
       "$$- \\frac{1}{x^{2}} + \\frac{6}{x^{3}}$$"
      ],
      "text/plain": [
       "  1    6 \n",
       "- ── + ──\n",
       "   2    3\n",
       "  x    x "
      ]
     },
     "execution_count": 12,
     "metadata": {},
     "output_type": "execute_result"
    }
   ],
   "source": [
    "diff(f(x))"
   ]
  },
  {
   "cell_type": "markdown",
   "metadata": {},
   "source": [
    "**Exercício 6**"
   ]
  },
  {
   "cell_type": "code",
   "execution_count": 13,
   "metadata": {},
   "outputs": [
    {
     "data": {
      "image/png": "[encoded data removed]",
      "text/latex": [
       "$$5 x^{3} - \\frac{4}{x^{2}}$$"
      ],
      "text/plain": [
       "   3   4 \n",
       "5⋅x  - ──\n",
       "        2\n",
       "       x "
      ]
     },
     "execution_count": 13,
     "metadata": {},
     "output_type": "execute_result"
    }
   ],
   "source": [
    "def f(x):\n",
    "    return (5 * x ** 3) - (4 / x ** 2)\n",
    "f(x)"
   ]
  },
  {
   "cell_type": "code",
   "execution_count": 14,
   "metadata": {},
   "outputs": [
    {
     "data": {
      "image/png": "[encoded data removed]",
      "text/latex": [
       "$$15 x^{2} + \\frac{8}{x^{3}}$$"
      ],
      "text/plain": [
       "    2   8 \n",
       "15⋅x  + ──\n",
       "         3\n",
       "        x "
      ]
     },
     "execution_count": 14,
     "metadata": {},
     "output_type": "execute_result"
    }
   ],
   "source": [
    "diff(f(x))"
   ]
  },
  {
   "cell_type": "markdown",
   "metadata": {},
   "source": [
    "**Exercício 7**"
   ]
  },
  {
   "cell_type": "code",
   "execution_count": 15,
   "metadata": {},
   "outputs": [
    {
     "data": {
      "image/png": "[encoded data removed]",
      "text/latex": [
       "$$\\left(x^{2} - 1\\right) \\left(x^{10} + 1\\right)$$"
      ],
      "text/plain": [
       "⎛ 2    ⎞ ⎛ 10    ⎞\n",
       "⎝x  - 1⎠⋅⎝x   + 1⎠"
      ]
     },
     "execution_count": 15,
     "metadata": {},
     "output_type": "execute_result"
    }
   ],
   "source": [
    "def f(x):\n",
    "    return (x ** 10 + 1) * (x ** 2 - 1)\n",
    "f(x)"
   ]
  },
  {
   "cell_type": "code",
   "execution_count": 16,
   "metadata": {},
   "outputs": [
    {
     "data": {
      "image/png": "[encoded data removed]",
      "text/latex": [
       "$$10 x^{9} \\left(x^{2} - 1\\right) + 2 x \\left(x^{10} + 1\\right)$$"
      ],
      "text/plain": [
       "    9 ⎛ 2    ⎞       ⎛ 10    ⎞\n",
       "10⋅x ⋅⎝x  - 1⎠ + 2⋅x⋅⎝x   + 1⎠"
      ]
     },
     "execution_count": 16,
     "metadata": {},
     "output_type": "execute_result"
    }
   ],
   "source": [
    "diff(f(x))"
   ]
  },
  {
   "cell_type": "markdown",
   "metadata": {},
   "source": [
    "**Exercício 8**"
   ]
  },
  {
   "cell_type": "code",
   "execution_count": 17,
   "metadata": {},
   "outputs": [
    {
     "data": {
      "image/png": "[encoded data removed]",
      "text/latex": [
       "$$\\left(2 x^{2} - 4\\right) \\left(5 x^{6} + x - 1\\right)$$"
      ],
      "text/plain": [
       "⎛   2    ⎞ ⎛   6        ⎞\n",
       "⎝2⋅x  - 4⎠⋅⎝5⋅x  + x - 1⎠"
      ]
     },
     "execution_count": 17,
     "metadata": {},
     "output_type": "execute_result"
    }
   ],
   "source": [
    "def f(x):\n",
    "    return (5 * x ** 6 + x - 1) * (2 * x ** 2 - 4)\n",
    "f(x)"
   ]
  },
  {
   "cell_type": "code",
   "execution_count": 18,
   "metadata": {},
   "outputs": [
    {
     "data": {
      "image/png": "[encoded data removed]",
      "text/latex": [
       "$$4 x \\left(5 x^{6} + x - 1\\right) + \\left(2 x^{2} - 4\\right) \\left(30 x^{5} + 1\\right)$$"
      ],
      "text/plain": [
       "    ⎛   6        ⎞   ⎛   2    ⎞ ⎛    5    ⎞\n",
       "4⋅x⋅⎝5⋅x  + x - 1⎠ + ⎝2⋅x  - 4⎠⋅⎝30⋅x  + 1⎠"
      ]
     },
     "execution_count": 18,
     "metadata": {},
     "output_type": "execute_result"
    }
   ],
   "source": [
    "diff(f(x))"
   ]
  },
  {
   "cell_type": "markdown",
   "metadata": {},
   "source": [
    "**Exercício 9**"
   ]
  },
  {
   "cell_type": "code",
   "execution_count": 19,
   "metadata": {},
   "outputs": [
    {
     "data": {
      "image/png": "[encoded data removed]",
      "text/latex": [
       "$$\\left(3 x^{3} + x^{2}\\right) \\left(x^{5} - 2 x\\right)$$"
      ],
      "text/plain": [
       "⎛   3    2⎞ ⎛ 5      ⎞\n",
       "⎝3⋅x  + x ⎠⋅⎝x  - 2⋅x⎠"
      ]
     },
     "execution_count": 19,
     "metadata": {},
     "output_type": "execute_result"
    }
   ],
   "source": [
    "def f(x):\n",
    "    return (x ** 5 - 2 * x) * (3 * x ** 3 + x ** 2)\n",
    "f(x)"
   ]
  },
  {
   "cell_type": "code",
   "execution_count": 20,
   "metadata": {},
   "outputs": [
    {
     "data": {
      "image/png": "[encoded data removed]",
      "text/latex": [
       "$$\\left(9 x^{2} + 2 x\\right) \\left(x^{5} - 2 x\\right) + \\left(3 x^{3} + x^{2}\\right) \\left(5 x^{4} - 2\\right)$$"
      ],
      "text/plain": [
       "⎛   2      ⎞ ⎛ 5      ⎞   ⎛   3    2⎞ ⎛   4    ⎞\n",
       "⎝9⋅x  + 2⋅x⎠⋅⎝x  - 2⋅x⎠ + ⎝3⋅x  + x ⎠⋅⎝5⋅x  - 2⎠"
      ]
     },
     "execution_count": 20,
     "metadata": {},
     "output_type": "execute_result"
    }
   ],
   "source": [
    "diff(f(x))"
   ]
  },
  {
   "cell_type": "markdown",
   "metadata": {},
   "source": [
    "**Exercício 10**"
   ]
  },
  {
   "cell_type": "code",
   "execution_count": 21,
   "metadata": {},
   "outputs": [
    {
     "data": {
      "image/png": "[encoded data removed]",
      "text/latex": [
       "$$\\frac{\\log{\\left (x \\right )}}{2 x + 1}$$"
      ],
      "text/plain": [
       " log(x)\n",
       "───────\n",
       "2⋅x + 1"
      ]
     },
     "execution_count": 21,
     "metadata": {},
     "output_type": "execute_result"
    }
   ],
   "source": [
    "def f(x):\n",
    "    return ln(x) / (2 * x + 1)\n",
    "f(x)"
   ]
  },
  {
   "cell_type": "code",
   "execution_count": 22,
   "metadata": {},
   "outputs": [
    {
     "data": {
      "image/png": "[encoded data removed]",
      "text/latex": [
       "$$- \\frac{2 \\log{\\left (x \\right )}}{\\left(2 x + 1\\right)^{2}} + \\frac{1}{x \\left(2 x + 1\\right)}$$"
      ],
      "text/plain": [
       "   2⋅log(x)         1     \n",
       "- ────────── + ───────────\n",
       "           2   x⋅(2⋅x + 1)\n",
       "  (2⋅x + 1)               "
      ]
     },
     "execution_count": 22,
     "metadata": {},
     "output_type": "execute_result"
    }
   ],
   "source": [
    "diff(f(x))"
   ]
  },
  {
   "cell_type": "markdown",
   "metadata": {},
   "source": [
    "**Exercício 11**"
   ]
  },
  {
   "cell_type": "code",
   "execution_count": 23,
   "metadata": {},
   "outputs": [
    {
     "data": {
      "image/png": "[encoded data removed]",
      "text/latex": [
       "$$5 \\cdot 3^{- x} x$$"
      ],
      "text/plain": [
       "   -x  \n",
       "5⋅3  ⋅x"
      ]
     },
     "execution_count": 23,
     "metadata": {},
     "output_type": "execute_result"
    }
   ],
   "source": [
    "def f(x):\n",
    "    return 5 * x / 3 ** x\n",
    "f(x)"
   ]
  },
  {
   "cell_type": "code",
   "execution_count": 24,
   "metadata": {},
   "outputs": [
    {
     "data": {
      "image/png": "[encoded data removed]",
      "text/latex": [
       "$$- 5 \\cdot 3^{- x} x \\log{\\left (3 \\right )} + 5 \\cdot 3^{- x}$$"
      ],
      "text/plain": [
       "     -x               -x\n",
       "- 5⋅3  ⋅x⋅log(3) + 5⋅3  "
      ]
     },
     "execution_count": 24,
     "metadata": {},
     "output_type": "execute_result"
    }
   ],
   "source": [
    "diff(f(x))"
   ]
  },
  {
   "cell_type": "markdown",
   "metadata": {},
   "source": [
    "**Exercício 12**"
   ]
  },
  {
   "cell_type": "code",
   "execution_count": 25,
   "metadata": {},
   "outputs": [
    {
     "data": {
      "image/png": "[encoded data removed]",
      "text/latex": [
       "$$\\frac{x^{2} + 1}{2 x - 1}$$"
      ],
      "text/plain": [
       "  2    \n",
       " x  + 1\n",
       "───────\n",
       "2⋅x - 1"
      ]
     },
     "execution_count": 25,
     "metadata": {},
     "output_type": "execute_result"
    }
   ],
   "source": [
    "def f(x):\n",
    "    return (x ** 2 + 1) / (2 * x - 1)\n",
    "f(x)"
   ]
  },
  {
   "cell_type": "code",
   "execution_count": 26,
   "metadata": {},
   "outputs": [
    {
     "data": {
      "image/png": "[encoded data removed]",
      "text/latex": [
       "$$\\frac{2 x}{2 x - 1} - \\frac{2 \\left(x^{2} + 1\\right)}{\\left(2 x - 1\\right)^{2}}$$"
      ],
      "text/plain": [
       "            ⎛ 2    ⎞\n",
       "  2⋅x     2⋅⎝x  + 1⎠\n",
       "─────── - ──────────\n",
       "2⋅x - 1            2\n",
       "          (2⋅x - 1) "
      ]
     },
     "execution_count": 26,
     "metadata": {},
     "output_type": "execute_result"
    }
   ],
   "source": [
    "diff(f(x))"
   ]
  },
  {
   "cell_type": "markdown",
   "metadata": {},
   "source": [
    "**Exercício 13**"
   ]
  },
  {
   "cell_type": "code",
   "execution_count": 27,
   "metadata": {},
   "outputs": [
    {
     "data": {
      "image/png": "[encoded data removed]",
      "text/latex": [
       "$$\\log{\\left (x \\right )} \\cos{\\left (x \\right )}$$"
      ],
      "text/plain": [
       "log(x)⋅cos(x)"
      ]
     },
     "execution_count": 27,
     "metadata": {},
     "output_type": "execute_result"
    }
   ],
   "source": [
    "def f(x):\n",
    "    return cos(x) * ln(x)\n",
    "f(x)"
   ]
  },
  {
   "cell_type": "code",
   "execution_count": 28,
   "metadata": {},
   "outputs": [
    {
     "data": {
      "image/png": "[encoded data removed]",
      "text/latex": [
       "$$- \\log{\\left (x \\right )} \\sin{\\left (x \\right )} + \\frac{1}{x} \\cos{\\left (x \\right )}$$"
      ],
      "text/plain": [
       "                 cos(x)\n",
       "-log(x)⋅sin(x) + ──────\n",
       "                   x   "
      ]
     },
     "execution_count": 28,
     "metadata": {},
     "output_type": "execute_result"
    }
   ],
   "source": [
    "diff(f(x))"
   ]
  },
  {
   "cell_type": "markdown",
   "metadata": {},
   "source": [
    "**Exercício 14**"
   ]
  },
  {
   "cell_type": "code",
   "execution_count": 29,
   "metadata": {},
   "outputs": [
    {
     "data": {
      "image/png": "[encoded data removed]",
      "text/latex": [
       "$$6^{x} \\tan{\\left (x \\right )}$$"
      ],
      "text/plain": [
       " x       \n",
       "6 ⋅tan(x)"
      ]
     },
     "execution_count": 29,
     "metadata": {},
     "output_type": "execute_result"
    }
   ],
   "source": [
    "def f(x):\n",
    "    return 6 ** x * tan(x)\n",
    "f(x)"
   ]
  },
  {
   "cell_type": "code",
   "execution_count": 30,
   "metadata": {},
   "outputs": [
    {
     "data": {
      "image/png": "[encoded data removed]",
      "text/latex": [
       "$$6^{x} \\left(\\tan^{2}{\\left (x \\right )} + 1\\right) + 6^{x} \\log{\\left (6 \\right )} \\tan{\\left (x \\right )}$$"
      ],
      "text/plain": [
       " x ⎛   2       ⎞    x              \n",
       "6 ⋅⎝tan (x) + 1⎠ + 6 ⋅log(6)⋅tan(x)"
      ]
     },
     "execution_count": 30,
     "metadata": {},
     "output_type": "execute_result"
    }
   ],
   "source": [
    "diff(f(x))"
   ]
  },
  {
   "cell_type": "markdown",
   "metadata": {},
   "source": [
    "**Exercício 15**"
   ]
  },
  {
   "cell_type": "code",
   "execution_count": 31,
   "metadata": {},
   "outputs": [
    {
     "data": {
      "image/png": "[encoded data removed]",
      "text/latex": [
       "$$e^{x} \\log{\\left (x \\right )}$$"
      ],
      "text/plain": [
       " x       \n",
       "ℯ ⋅log(x)"
      ]
     },
     "execution_count": 31,
     "metadata": {},
     "output_type": "execute_result"
    }
   ],
   "source": [
    "def f(x):\n",
    "    return E ** x * ln(x)\n",
    "f(x)"
   ]
  },
  {
   "cell_type": "code",
   "execution_count": 32,
   "metadata": {},
   "outputs": [
    {
     "data": {
      "image/png": "[encoded data removed]",
      "text/latex": [
       "$$e^{x} \\log{\\left (x \\right )} + \\frac{e^{x}}{x}$$"
      ],
      "text/plain": [
       "             x\n",
       " x          ℯ \n",
       "ℯ ⋅log(x) + ──\n",
       "            x "
      ]
     },
     "execution_count": 32,
     "metadata": {},
     "output_type": "execute_result"
    }
   ],
   "source": [
    "diff(f(x))"
   ]
  },
  {
   "cell_type": "markdown",
   "metadata": {},
   "source": [
    "**Exercício 16**"
   ]
  },
  {
   "cell_type": "code",
   "execution_count": 33,
   "metadata": {},
   "outputs": [
    {
     "data": {
      "image/png": "[encoded data removed]",
      "text/latex": [
       "$$\\frac{4^{x}}{\\cos{\\left (x \\right )}}$$"
      ],
      "text/plain": [
       "   x  \n",
       "  4   \n",
       "──────\n",
       "cos(x)"
      ]
     },
     "execution_count": 33,
     "metadata": {},
     "output_type": "execute_result"
    }
   ],
   "source": [
    "def f(x):\n",
    "    return 4 ** x / cos(x)\n",
    "f(x)"
   ]
  },
  {
   "cell_type": "code",
   "execution_count": 34,
   "metadata": {},
   "outputs": [
    {
     "data": {
      "image/png": "[encoded data removed]",
      "text/latex": [
       "$$\\frac{4^{x} \\sin{\\left (x \\right )}}{\\cos^{2}{\\left (x \\right )}} + \\frac{4^{x} \\log{\\left (4 \\right )}}{\\cos{\\left (x \\right )}}$$"
      ],
      "text/plain": [
       " x           x       \n",
       "4 ⋅sin(x)   4 ⋅log(4)\n",
       "───────── + ─────────\n",
       "    2         cos(x) \n",
       " cos (x)             "
      ]
     },
     "execution_count": 34,
     "metadata": {},
     "output_type": "execute_result"
    }
   ],
   "source": [
    "diff(f(x))"
   ]
  },
  {
   "cell_type": "markdown",
   "metadata": {},
   "source": [
    "**Exercício 17**"
   ]
  },
  {
   "cell_type": "code",
   "execution_count": 35,
   "metadata": {},
   "outputs": [
    {
     "data": {
      "image/png": "[encoded data removed]",
      "text/latex": [
       "$$\\left(x^{3} - 4 x^{2} - 2\\right) \\log{\\left (x^{3} + 1 \\right )}$$"
      ],
      "text/plain": [
       "⎛ 3      2    ⎞    ⎛ 3    ⎞\n",
       "⎝x  - 4⋅x  - 2⎠⋅log⎝x  + 1⎠"
      ]
     },
     "execution_count": 35,
     "metadata": {},
     "output_type": "execute_result"
    }
   ],
   "source": [
    "def f(x):\n",
    "    return (x ** 3 - 4 * x ** 2 - 2) * ln(x ** 3 + 1)\n",
    "f(x)"
   ]
  },
  {
   "cell_type": "code",
   "execution_count": 36,
   "metadata": {},
   "outputs": [
    {
     "data": {
      "image/png": "[encoded data removed]",
      "text/latex": [
       "$$\\frac{3 x^{2}}{x^{3} + 1} \\left(x^{3} - 4 x^{2} - 2\\right) + \\left(3 x^{2} - 8 x\\right) \\log{\\left (x^{3} + 1 \\right )}$$"
      ],
      "text/plain": [
       "   2 ⎛ 3      2    ⎞                           \n",
       "3⋅x ⋅⎝x  - 4⋅x  - 2⎠   ⎛   2      ⎞    ⎛ 3    ⎞\n",
       "──────────────────── + ⎝3⋅x  - 8⋅x⎠⋅log⎝x  + 1⎠\n",
       "        3                                      \n",
       "       x  + 1                                  "
      ]
     },
     "execution_count": 36,
     "metadata": {},
     "output_type": "execute_result"
    }
   ],
   "source": [
    "diff(f(x))"
   ]
  },
  {
   "cell_type": "markdown",
   "metadata": {},
   "source": [
    "**Exercício 18**"
   ]
  },
  {
   "cell_type": "code",
   "execution_count": 37,
   "metadata": {},
   "outputs": [
    {
     "data": {
      "image/png": "[encoded data removed]",
      "text/latex": [
       "$$\\left(x^{3} - 5\\right) \\left(x^{5} - 2 x + 6\\right)$$"
      ],
      "text/plain": [
       "⎛ 3    ⎞ ⎛ 5          ⎞\n",
       "⎝x  - 5⎠⋅⎝x  - 2⋅x + 6⎠"
      ]
     },
     "execution_count": 37,
     "metadata": {},
     "output_type": "execute_result"
    }
   ],
   "source": [
    "def f(x):\n",
    "    return (x ** 5 - 2 * x + 6) * (x ** 3 - 5)\n",
    "f(x)"
   ]
  },
  {
   "cell_type": "code",
   "execution_count": 38,
   "metadata": {},
   "outputs": [
    {
     "data": {
      "image/png": "[encoded data removed]",
      "text/latex": [
       "$$3 x^{2} \\left(x^{5} - 2 x + 6\\right) + \\left(x^{3} - 5\\right) \\left(5 x^{4} - 2\\right)$$"
      ],
      "text/plain": [
       "   2 ⎛ 5          ⎞   ⎛ 3    ⎞ ⎛   4    ⎞\n",
       "3⋅x ⋅⎝x  - 2⋅x + 6⎠ + ⎝x  - 5⎠⋅⎝5⋅x  - 2⎠"
      ]
     },
     "execution_count": 38,
     "metadata": {},
     "output_type": "execute_result"
    }
   ],
   "source": [
    "diff(f(x))"
   ]
  },
  {
   "cell_type": "markdown",
   "metadata": {},
   "source": [
    "**Exercício 19**"
   ]
  },
  {
   "cell_type": "code",
   "execution_count": 39,
   "metadata": {},
   "outputs": [
    {
     "data": {
      "image/png": "[encoded data removed]",
      "text/latex": [
       "$$\\frac{x^{2} + 1}{x - 1}$$"
      ],
      "text/plain": [
       " 2    \n",
       "x  + 1\n",
       "──────\n",
       "x - 1 "
      ]
     },
     "execution_count": 39,
     "metadata": {},
     "output_type": "execute_result"
    }
   ],
   "source": [
    "def f(x):\n",
    "    return (x ** 2 + 1) / (x - 1)\n",
    "f(x)"
   ]
  },
  {
   "cell_type": "code",
   "execution_count": 40,
   "metadata": {},
   "outputs": [
    {
     "data": {
      "image/png": "[encoded data removed]",
      "text/latex": [
       "$$\\frac{2 x}{x - 1} - \\frac{x^{2} + 1}{\\left(x - 1\\right)^{2}}$$"
      ],
      "text/plain": [
       "          2     \n",
       " 2⋅x     x  + 1 \n",
       "───── - ────────\n",
       "x - 1          2\n",
       "        (x - 1) "
      ]
     },
     "execution_count": 40,
     "metadata": {},
     "output_type": "execute_result"
    }
   ],
   "source": [
    "diff(f(x))"
   ]
  },
  {
   "cell_type": "markdown",
   "metadata": {},
   "source": [
    "**Exercício 20**"
   ]
  },
  {
   "cell_type": "code",
   "execution_count": 41,
   "metadata": {},
   "outputs": [
    {
     "data": {
      "image/png": "[encoded data removed]",
      "text/latex": [
       "$$\\frac{x}{2} \\log{\\left (x \\right )} + 1$$"
      ],
      "text/plain": [
       "x⋅log(x)    \n",
       "──────── + 1\n",
       "   2        "
      ]
     },
     "execution_count": 41,
     "metadata": {},
     "output_type": "execute_result"
    }
   ],
   "source": [
    "def f(x):\n",
    "    return ln(x) / 2 * x + 1\n",
    "f(x)"
   ]
  },
  {
   "cell_type": "code",
   "execution_count": 42,
   "metadata": {},
   "outputs": [
    {
     "data": {
      "image/png": "[encoded data removed]",
      "text/latex": [
       "$$\\frac{1}{2} \\log{\\left (x \\right )} + \\frac{1}{2}$$"
      ],
      "text/plain": [
       "log(x)   1\n",
       "────── + ─\n",
       "  2      2"
      ]
     },
     "execution_count": 42,
     "metadata": {},
     "output_type": "execute_result"
    }
   ],
   "source": [
    "diff(f(x))"
   ]
  }
 ],
 "metadata": {
  "kernelspec": {
   "display_name": "Python 3",
   "language": "python",
   "name": "python3"
  },
  "language_info": {
   "codemirror_mode": {
    "name": "ipython",
    "version": 3
   },
   "file_extension": ".py",
   "mimetype": "text/x-python",
   "name": "python",
   "nbconvert_exporter": "python",
   "pygments_lexer": "ipython3",
   "version": "3.5.2"
  }
 },
 "nbformat": 4,
 "nbformat_minor": 2
}
